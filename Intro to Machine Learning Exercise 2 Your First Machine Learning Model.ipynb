{
 "cells": [
  {
   "cell_type": "markdown",
   "id": "8d1cea91",
   "metadata": {
    "papermill": {
     "duration": 0.013534,
     "end_time": "2022-01-30T18:39:45.096447",
     "exception": false,
     "start_time": "2022-01-30T18:39:45.082913",
     "status": "completed"
    },
    "tags": []
   },
   "source": [
    "**This notebook is an exercise in the [Introduction to Machine Learning](https://www.kaggle.com/learn/intro-to-machine-learning) course.  You can reference the tutorial at [this link](https://www.kaggle.com/dansbecker/your-first-machine-learning-model).**\n",
    "\n",
    "---\n"
   ]
  },
  {
   "cell_type": "markdown",
   "id": "334d22a0",
   "metadata": {
    "papermill": {
     "duration": 0.012348,
     "end_time": "2022-01-30T18:39:45.122917",
     "exception": false,
     "start_time": "2022-01-30T18:39:45.110569",
     "status": "completed"
    },
    "tags": []
   },
   "source": [
    "## Recap\n",
    "So far, you have loaded your data and reviewed it with the following code. Run this cell to set up your coding environment where the previous step left off."
   ]
  },
  {
   "cell_type": "code",
   "execution_count": 1,
   "id": "d97439c6",
   "metadata": {
    "execution": {
     "iopub.execute_input": "2022-01-30T18:39:45.159328Z",
     "iopub.status.busy": "2022-01-30T18:39:45.158642Z",
     "iopub.status.idle": "2022-01-30T18:39:46.290585Z",
     "shell.execute_reply": "2022-01-30T18:39:46.289817Z",
     "shell.execute_reply.started": "2022-01-30T18:37:10.608779Z"
    },
    "papermill": {
     "duration": 1.155497,
     "end_time": "2022-01-30T18:39:46.290766",
     "exception": false,
     "start_time": "2022-01-30T18:39:45.135269",
     "status": "completed"
    },
    "tags": []
   },
   "outputs": [
    {
     "name": "stdout",
     "output_type": "stream",
     "text": [
      "Setup Complete\n"
     ]
    }
   ],
   "source": [
    "# Code you have previously used to load data\n",
    "import pandas as pd\n",
    "\n",
    "# Path of the file to read\n",
    "iowa_file_path = '../input/home-data-for-ml-course/train.csv'\n",
    "\n",
    "home_data = pd.read_csv(iowa_file_path)\n",
    "\n",
    "# Set up code checking\n",
    "from learntools.core import binder\n",
    "binder.bind(globals())\n",
    "from learntools.machine_learning.ex3 import *\n",
    "\n",
    "print(\"Setup Complete\")"
   ]
  },
  {
   "cell_type": "markdown",
   "id": "c8e66a12",
   "metadata": {
    "papermill": {
     "duration": 0.012546,
     "end_time": "2022-01-30T18:39:46.316955",
     "exception": false,
     "start_time": "2022-01-30T18:39:46.304409",
     "status": "completed"
    },
    "tags": []
   },
   "source": [
    "# Exercises\n",
    "\n",
    "## Step 1: Specify Prediction Target\n",
    "Select the target variable, which corresponds to the sales price. Save this to a new variable called `y`. You'll need to print a list of the columns to find the name of the column you need.\n"
   ]
  },
  {
   "cell_type": "code",
   "execution_count": 2,
   "id": "d754de89",
   "metadata": {
    "execution": {
     "iopub.execute_input": "2022-01-30T18:39:46.349251Z",
     "iopub.status.busy": "2022-01-30T18:39:46.348672Z",
     "iopub.status.idle": "2022-01-30T18:39:46.352670Z",
     "shell.execute_reply": "2022-01-30T18:39:46.353104Z",
     "shell.execute_reply.started": "2022-01-30T18:37:11.112852Z"
    },
    "papermill": {
     "duration": 0.023619,
     "end_time": "2022-01-30T18:39:46.353231",
     "exception": false,
     "start_time": "2022-01-30T18:39:46.329612",
     "status": "completed"
    },
    "tags": []
   },
   "outputs": [
    {
     "data": {
      "text/plain": [
       "Index(['Id', 'MSSubClass', 'MSZoning', 'LotFrontage', 'LotArea', 'Street',\n",
       "       'Alley', 'LotShape', 'LandContour', 'Utilities', 'LotConfig',\n",
       "       'LandSlope', 'Neighborhood', 'Condition1', 'Condition2', 'BldgType',\n",
       "       'HouseStyle', 'OverallQual', 'OverallCond', 'YearBuilt', 'YearRemodAdd',\n",
       "       'RoofStyle', 'RoofMatl', 'Exterior1st', 'Exterior2nd', 'MasVnrType',\n",
       "       'MasVnrArea', 'ExterQual', 'ExterCond', 'Foundation', 'BsmtQual',\n",
       "       'BsmtCond', 'BsmtExposure', 'BsmtFinType1', 'BsmtFinSF1',\n",
       "       'BsmtFinType2', 'BsmtFinSF2', 'BsmtUnfSF', 'TotalBsmtSF', 'Heating',\n",
       "       'HeatingQC', 'CentralAir', 'Electrical', '1stFlrSF', '2ndFlrSF',\n",
       "       'LowQualFinSF', 'GrLivArea', 'BsmtFullBath', 'BsmtHalfBath', 'FullBath',\n",
       "       'HalfBath', 'BedroomAbvGr', 'KitchenAbvGr', 'KitchenQual',\n",
       "       'TotRmsAbvGrd', 'Functional', 'Fireplaces', 'FireplaceQu', 'GarageType',\n",
       "       'GarageYrBlt', 'GarageFinish', 'GarageCars', 'GarageArea', 'GarageQual',\n",
       "       'GarageCond', 'PavedDrive', 'WoodDeckSF', 'OpenPorchSF',\n",
       "       'EnclosedPorch', '3SsnPorch', 'ScreenPorch', 'PoolArea', 'PoolQC',\n",
       "       'Fence', 'MiscFeature', 'MiscVal', 'MoSold', 'YrSold', 'SaleType',\n",
       "       'SaleCondition', 'SalePrice'],\n",
       "      dtype='object')"
      ]
     },
     "execution_count": 2,
     "metadata": {},
     "output_type": "execute_result"
    }
   ],
   "source": [
    "# print the list of columns in the dataset to find the name of the prediction target\n",
    "home_data.columns"
   ]
  },
  {
   "cell_type": "code",
   "execution_count": 3,
   "id": "cd83c638",
   "metadata": {
    "execution": {
     "iopub.execute_input": "2022-01-30T18:39:46.388991Z",
     "iopub.status.busy": "2022-01-30T18:39:46.388150Z",
     "iopub.status.idle": "2022-01-30T18:39:46.392558Z",
     "shell.execute_reply": "2022-01-30T18:39:46.392965Z",
     "shell.execute_reply.started": "2022-01-30T18:37:11.397744Z"
    },
    "papermill": {
     "duration": 0.026548,
     "end_time": "2022-01-30T18:39:46.393091",
     "exception": false,
     "start_time": "2022-01-30T18:39:46.366543",
     "status": "completed"
    },
    "tags": []
   },
   "outputs": [
    {
     "data": {
      "application/javascript": [
       "parent.postMessage({\"jupyterEvent\": \"custom.exercise_interaction\", \"data\": {\"outcomeType\": 1, \"valueTowardsCompletion\": 0.25, \"interactionType\": 1, \"questionType\": 2, \"questionId\": \"1_SetTarget\", \"learnToolsVersion\": \"0.3.4\", \"failureMessage\": \"\", \"exceptionClass\": \"\", \"trace\": \"\"}}, \"*\")"
      ],
      "text/plain": [
       "<IPython.core.display.Javascript object>"
      ]
     },
     "metadata": {},
     "output_type": "display_data"
    },
    {
     "data": {
      "text/markdown": [
       "<span style=\"color:#33cc33\">Correct</span>"
      ],
      "text/plain": [
       "Correct"
      ]
     },
     "metadata": {},
     "output_type": "display_data"
    }
   ],
   "source": [
    "y = home_data.SalePrice\n",
    "\n",
    "# Check your answer\n",
    "step_1.check()"
   ]
  },
  {
   "cell_type": "code",
   "execution_count": 4,
   "id": "ade5386e",
   "metadata": {
    "execution": {
     "iopub.execute_input": "2022-01-30T18:39:46.433172Z",
     "iopub.status.busy": "2022-01-30T18:39:46.432296Z",
     "iopub.status.idle": "2022-01-30T18:39:46.434644Z",
     "shell.execute_reply": "2022-01-30T18:39:46.433902Z",
     "shell.execute_reply.started": "2022-01-30T18:37:12.108674Z"
    },
    "papermill": {
     "duration": 0.028084,
     "end_time": "2022-01-30T18:39:46.434798",
     "exception": false,
     "start_time": "2022-01-30T18:39:46.406714",
     "status": "completed"
    },
    "tags": []
   },
   "outputs": [],
   "source": [
    "# The lines below will show you a hint or the solution.\n",
    "# step_1.hint() \n",
    "# step_1.solution()"
   ]
  },
  {
   "cell_type": "markdown",
   "id": "fe96ba76",
   "metadata": {
    "papermill": {
     "duration": 0.023007,
     "end_time": "2022-01-30T18:39:46.480079",
     "exception": false,
     "start_time": "2022-01-30T18:39:46.457072",
     "status": "completed"
    },
    "tags": []
   },
   "source": [
    "## Step 2: Create X\n",
    "Now you will create a DataFrame called `X` holding the predictive features.\n",
    "\n",
    "Since you want only some columns from the original data, you'll first create a list with the names of the columns you want in `X`.\n",
    "\n",
    "You'll use just the following columns in the list (you can copy and paste the whole list to save some typing, though you'll still need to add quotes):\n",
    "    * LotArea\n",
    "    * YearBuilt\n",
    "    * 1stFlrSF\n",
    "    * 2ndFlrSF\n",
    "    * FullBath\n",
    "    * BedroomAbvGr\n",
    "    * TotRmsAbvGrd\n",
    "\n",
    "After you've created that list of features, use it to create the DataFrame that you'll use to fit the model."
   ]
  },
  {
   "cell_type": "code",
   "execution_count": 5,
   "id": "2785a40d",
   "metadata": {
    "execution": {
     "iopub.execute_input": "2022-01-30T18:39:46.529419Z",
     "iopub.status.busy": "2022-01-30T18:39:46.528562Z",
     "iopub.status.idle": "2022-01-30T18:39:46.532671Z",
     "shell.execute_reply": "2022-01-30T18:39:46.533090Z",
     "shell.execute_reply.started": "2022-01-30T18:37:12.971276Z"
    },
    "papermill": {
     "duration": 0.029113,
     "end_time": "2022-01-30T18:39:46.533214",
     "exception": false,
     "start_time": "2022-01-30T18:39:46.504101",
     "status": "completed"
    },
    "tags": []
   },
   "outputs": [
    {
     "data": {
      "application/javascript": [
       "parent.postMessage({\"jupyterEvent\": \"custom.exercise_interaction\", \"data\": {\"outcomeType\": 1, \"valueTowardsCompletion\": 0.25, \"interactionType\": 1, \"questionType\": 2, \"questionId\": \"2_SelectPredictionData\", \"learnToolsVersion\": \"0.3.4\", \"failureMessage\": \"\", \"exceptionClass\": \"\", \"trace\": \"\"}}, \"*\")"
      ],
      "text/plain": [
       "<IPython.core.display.Javascript object>"
      ]
     },
     "metadata": {},
     "output_type": "display_data"
    },
    {
     "data": {
      "text/markdown": [
       "<span style=\"color:#33cc33\">Correct</span>"
      ],
      "text/plain": [
       "Correct"
      ]
     },
     "metadata": {},
     "output_type": "display_data"
    }
   ],
   "source": [
    "# Create the list of features below\n",
    "feature_names = [ 'LotArea','YearBuilt','1stFlrSF','2ndFlrSF','FullBath','BedroomAbvGr','TotRmsAbvGrd']\n",
    "\n",
    "# Select data corresponding to features in feature_names\n",
    "X = home_data[feature_names]\n",
    "\n",
    "# Check your answer\n",
    "step_2.check()"
   ]
  },
  {
   "cell_type": "code",
   "execution_count": 6,
   "id": "909915b8",
   "metadata": {
    "execution": {
     "iopub.execute_input": "2022-01-30T18:39:46.566127Z",
     "iopub.status.busy": "2022-01-30T18:39:46.565487Z",
     "iopub.status.idle": "2022-01-30T18:39:46.568048Z",
     "shell.execute_reply": "2022-01-30T18:39:46.567621Z",
     "shell.execute_reply.started": "2022-01-30T18:37:13.459674Z"
    },
    "papermill": {
     "duration": 0.020136,
     "end_time": "2022-01-30T18:39:46.568182",
     "exception": false,
     "start_time": "2022-01-30T18:39:46.548046",
     "status": "completed"
    },
    "tags": []
   },
   "outputs": [],
   "source": [
    "# step_2.hint()\n",
    "# step_2.solution()"
   ]
  },
  {
   "cell_type": "markdown",
   "id": "b1622142",
   "metadata": {
    "papermill": {
     "duration": 0.014419,
     "end_time": "2022-01-30T18:39:46.597380",
     "exception": false,
     "start_time": "2022-01-30T18:39:46.582961",
     "status": "completed"
    },
    "tags": []
   },
   "source": [
    "## Review Data\n",
    "Before building a model, take a quick look at **X** to verify it looks sensible"
   ]
  },
  {
   "cell_type": "code",
   "execution_count": 7,
   "id": "9e1093de",
   "metadata": {
    "execution": {
     "iopub.execute_input": "2022-01-30T18:39:46.631284Z",
     "iopub.status.busy": "2022-01-30T18:39:46.630645Z",
     "iopub.status.idle": "2022-01-30T18:39:46.645160Z",
     "shell.execute_reply": "2022-01-30T18:39:46.645566Z",
     "shell.execute_reply.started": "2022-01-30T18:37:14.435233Z"
    },
    "papermill": {
     "duration": 0.033532,
     "end_time": "2022-01-30T18:39:46.645691",
     "exception": false,
     "start_time": "2022-01-30T18:39:46.612159",
     "status": "completed"
    },
    "tags": []
   },
   "outputs": [
    {
     "name": "stdout",
     "output_type": "stream",
     "text": [
      "<bound method NDFrame.describe of       LotArea  YearBuilt  1stFlrSF  2ndFlrSF  FullBath  BedroomAbvGr  \\\n",
      "0        8450       2003       856       854         2             3   \n",
      "1        9600       1976      1262         0         2             3   \n",
      "2       11250       2001       920       866         2             3   \n",
      "3        9550       1915       961       756         1             3   \n",
      "4       14260       2000      1145      1053         2             4   \n",
      "...       ...        ...       ...       ...       ...           ...   \n",
      "1455     7917       1999       953       694         2             3   \n",
      "1456    13175       1978      2073         0         2             3   \n",
      "1457     9042       1941      1188      1152         2             4   \n",
      "1458     9717       1950      1078         0         1             2   \n",
      "1459     9937       1965      1256         0         1             3   \n",
      "\n",
      "      TotRmsAbvGrd  \n",
      "0                8  \n",
      "1                6  \n",
      "2                6  \n",
      "3                7  \n",
      "4                9  \n",
      "...            ...  \n",
      "1455             7  \n",
      "1456             7  \n",
      "1457             9  \n",
      "1458             5  \n",
      "1459             6  \n",
      "\n",
      "[1460 rows x 7 columns]>\n"
     ]
    },
    {
     "data": {
      "text/html": [
       "<div>\n",
       "<style scoped>\n",
       "    .dataframe tbody tr th:only-of-type {\n",
       "        vertical-align: middle;\n",
       "    }\n",
       "\n",
       "    .dataframe tbody tr th {\n",
       "        vertical-align: top;\n",
       "    }\n",
       "\n",
       "    .dataframe thead th {\n",
       "        text-align: right;\n",
       "    }\n",
       "</style>\n",
       "<table border=\"1\" class=\"dataframe\">\n",
       "  <thead>\n",
       "    <tr style=\"text-align: right;\">\n",
       "      <th></th>\n",
       "      <th>LotArea</th>\n",
       "      <th>YearBuilt</th>\n",
       "      <th>1stFlrSF</th>\n",
       "      <th>2ndFlrSF</th>\n",
       "      <th>FullBath</th>\n",
       "      <th>BedroomAbvGr</th>\n",
       "      <th>TotRmsAbvGrd</th>\n",
       "    </tr>\n",
       "  </thead>\n",
       "  <tbody>\n",
       "    <tr>\n",
       "      <th>0</th>\n",
       "      <td>8450</td>\n",
       "      <td>2003</td>\n",
       "      <td>856</td>\n",
       "      <td>854</td>\n",
       "      <td>2</td>\n",
       "      <td>3</td>\n",
       "      <td>8</td>\n",
       "    </tr>\n",
       "    <tr>\n",
       "      <th>1</th>\n",
       "      <td>9600</td>\n",
       "      <td>1976</td>\n",
       "      <td>1262</td>\n",
       "      <td>0</td>\n",
       "      <td>2</td>\n",
       "      <td>3</td>\n",
       "      <td>6</td>\n",
       "    </tr>\n",
       "    <tr>\n",
       "      <th>2</th>\n",
       "      <td>11250</td>\n",
       "      <td>2001</td>\n",
       "      <td>920</td>\n",
       "      <td>866</td>\n",
       "      <td>2</td>\n",
       "      <td>3</td>\n",
       "      <td>6</td>\n",
       "    </tr>\n",
       "    <tr>\n",
       "      <th>3</th>\n",
       "      <td>9550</td>\n",
       "      <td>1915</td>\n",
       "      <td>961</td>\n",
       "      <td>756</td>\n",
       "      <td>1</td>\n",
       "      <td>3</td>\n",
       "      <td>7</td>\n",
       "    </tr>\n",
       "    <tr>\n",
       "      <th>4</th>\n",
       "      <td>14260</td>\n",
       "      <td>2000</td>\n",
       "      <td>1145</td>\n",
       "      <td>1053</td>\n",
       "      <td>2</td>\n",
       "      <td>4</td>\n",
       "      <td>9</td>\n",
       "    </tr>\n",
       "  </tbody>\n",
       "</table>\n",
       "</div>"
      ],
      "text/plain": [
       "   LotArea  YearBuilt  1stFlrSF  2ndFlrSF  FullBath  BedroomAbvGr  \\\n",
       "0     8450       2003       856       854         2             3   \n",
       "1     9600       1976      1262         0         2             3   \n",
       "2    11250       2001       920       866         2             3   \n",
       "3     9550       1915       961       756         1             3   \n",
       "4    14260       2000      1145      1053         2             4   \n",
       "\n",
       "   TotRmsAbvGrd  \n",
       "0             8  \n",
       "1             6  \n",
       "2             6  \n",
       "3             7  \n",
       "4             9  "
      ]
     },
     "execution_count": 7,
     "metadata": {},
     "output_type": "execute_result"
    }
   ],
   "source": [
    "# Review data\n",
    "# print description or statistics from X\n",
    "print(X.describe)\n",
    "\n",
    "# print the top few lines\n",
    "X.head()"
   ]
  },
  {
   "cell_type": "markdown",
   "id": "6498e179",
   "metadata": {
    "papermill": {
     "duration": 0.0151,
     "end_time": "2022-01-30T18:39:46.676400",
     "exception": false,
     "start_time": "2022-01-30T18:39:46.661300",
     "status": "completed"
    },
    "tags": []
   },
   "source": [
    "## Step 3: Specify and Fit Model\n",
    "Create a `DecisionTreeRegressor` and save it iowa_model. Ensure you've done the relevant import from sklearn to run this command.\n",
    "\n",
    "Then fit the model you just created using the data in `X` and `y` that you saved above."
   ]
  },
  {
   "cell_type": "code",
   "execution_count": 8,
   "id": "d2f0a70d",
   "metadata": {
    "execution": {
     "iopub.execute_input": "2022-01-30T18:39:46.712739Z",
     "iopub.status.busy": "2022-01-30T18:39:46.712214Z",
     "iopub.status.idle": "2022-01-30T18:39:46.724516Z",
     "shell.execute_reply": "2022-01-30T18:39:46.724883Z",
     "shell.execute_reply.started": "2022-01-30T18:37:15.533704Z"
    },
    "papermill": {
     "duration": 0.03328,
     "end_time": "2022-01-30T18:39:46.725031",
     "exception": false,
     "start_time": "2022-01-30T18:39:46.691751",
     "status": "completed"
    },
    "tags": []
   },
   "outputs": [
    {
     "data": {
      "application/javascript": [
       "parent.postMessage({\"jupyterEvent\": \"custom.exercise_interaction\", \"data\": {\"outcomeType\": 1, \"valueTowardsCompletion\": 0.25, \"interactionType\": 1, \"questionType\": 2, \"questionId\": \"3_CreateModel\", \"learnToolsVersion\": \"0.3.4\", \"failureMessage\": \"\", \"exceptionClass\": \"\", \"trace\": \"\"}}, \"*\")"
      ],
      "text/plain": [
       "<IPython.core.display.Javascript object>"
      ]
     },
     "metadata": {},
     "output_type": "display_data"
    },
    {
     "data": {
      "text/markdown": [
       "<span style=\"color:#33cc33\">Correct</span>"
      ],
      "text/plain": [
       "Correct"
      ]
     },
     "metadata": {},
     "output_type": "display_data"
    }
   ],
   "source": [
    "from sklearn.tree import DecisionTreeRegressor\n",
    "#specify the model. \n",
    "#For model reproducibility, set a numeric value for random_state when specifying the model\n",
    "iowa_model = DecisionTreeRegressor(random_state=1)\n",
    "\n",
    "# Fit the model\n",
    "iowa_model.fit(X,y)\n",
    "\n",
    "# Check your answer\n",
    "step_3.check()"
   ]
  },
  {
   "cell_type": "code",
   "execution_count": 9,
   "id": "3bc4a114",
   "metadata": {
    "execution": {
     "iopub.execute_input": "2022-01-30T18:39:46.760792Z",
     "iopub.status.busy": "2022-01-30T18:39:46.760042Z",
     "iopub.status.idle": "2022-01-30T18:39:46.761998Z",
     "shell.execute_reply": "2022-01-30T18:39:46.762413Z",
     "shell.execute_reply.started": "2022-01-30T18:37:24.342803Z"
    },
    "papermill": {
     "duration": 0.021361,
     "end_time": "2022-01-30T18:39:46.762537",
     "exception": false,
     "start_time": "2022-01-30T18:39:46.741176",
     "status": "completed"
    },
    "tags": []
   },
   "outputs": [],
   "source": [
    "# step_3.hint()\n",
    "#step_3.solution()"
   ]
  },
  {
   "cell_type": "markdown",
   "id": "1ccb8525",
   "metadata": {
    "papermill": {
     "duration": 0.019501,
     "end_time": "2022-01-30T18:39:46.803171",
     "exception": false,
     "start_time": "2022-01-30T18:39:46.783670",
     "status": "completed"
    },
    "tags": []
   },
   "source": [
    "## Step 4: Make Predictions\n",
    "Make predictions with the model's `predict` command using `X` as the data. Save the results to a variable called `predictions`."
   ]
  },
  {
   "cell_type": "code",
   "execution_count": 10,
   "id": "54a288d3",
   "metadata": {
    "execution": {
     "iopub.execute_input": "2022-01-30T18:39:46.844762Z",
     "iopub.status.busy": "2022-01-30T18:39:46.843978Z",
     "iopub.status.idle": "2022-01-30T18:39:46.852823Z",
     "shell.execute_reply": "2022-01-30T18:39:46.852327Z",
     "shell.execute_reply.started": "2022-01-30T18:39:06.237004Z"
    },
    "papermill": {
     "duration": 0.032162,
     "end_time": "2022-01-30T18:39:46.852925",
     "exception": false,
     "start_time": "2022-01-30T18:39:46.820763",
     "status": "completed"
    },
    "tags": []
   },
   "outputs": [
    {
     "name": "stdout",
     "output_type": "stream",
     "text": [
      "[208500. 181500. 223500. ... 266500. 142125. 147500.]\n"
     ]
    },
    {
     "data": {
      "application/javascript": [
       "parent.postMessage({\"jupyterEvent\": \"custom.exercise_interaction\", \"data\": {\"outcomeType\": 1, \"valueTowardsCompletion\": 0.25, \"interactionType\": 1, \"questionType\": 2, \"questionId\": \"4_MakePredictions\", \"learnToolsVersion\": \"0.3.4\", \"failureMessage\": \"\", \"exceptionClass\": \"\", \"trace\": \"\"}}, \"*\")"
      ],
      "text/plain": [
       "<IPython.core.display.Javascript object>"
      ]
     },
     "metadata": {},
     "output_type": "display_data"
    },
    {
     "data": {
      "text/markdown": [
       "<span style=\"color:#33cc33\">Correct</span>"
      ],
      "text/plain": [
       "Correct"
      ]
     },
     "metadata": {},
     "output_type": "display_data"
    }
   ],
   "source": [
    "predictions = iowa_model.predict(X)\n",
    "print(predictions)\n",
    "\n",
    "# Check your answer\n",
    "step_4.check()"
   ]
  },
  {
   "cell_type": "code",
   "execution_count": 11,
   "id": "8093cbc7",
   "metadata": {
    "execution": {
     "iopub.execute_input": "2022-01-30T18:39:46.892958Z",
     "iopub.status.busy": "2022-01-30T18:39:46.892289Z",
     "iopub.status.idle": "2022-01-30T18:39:46.894530Z",
     "shell.execute_reply": "2022-01-30T18:39:46.895057Z",
     "shell.execute_reply.started": "2022-01-30T18:39:11.867267Z"
    },
    "papermill": {
     "duration": 0.023287,
     "end_time": "2022-01-30T18:39:46.895182",
     "exception": false,
     "start_time": "2022-01-30T18:39:46.871895",
     "status": "completed"
    },
    "tags": []
   },
   "outputs": [],
   "source": [
    "# step_4.hint()\n",
    "# step_4.solution()"
   ]
  },
  {
   "cell_type": "markdown",
   "id": "3fa440cf",
   "metadata": {
    "papermill": {
     "duration": 0.016994,
     "end_time": "2022-01-30T18:39:46.929382",
     "exception": false,
     "start_time": "2022-01-30T18:39:46.912388",
     "status": "completed"
    },
    "tags": []
   },
   "source": [
    "## Think About Your Results\n",
    "\n",
    "Use the `head` method to compare the top few predictions to the actual home values (in `y`) for those same homes. Anything surprising?\n"
   ]
  },
  {
   "cell_type": "code",
   "execution_count": 12,
   "id": "e54e311d",
   "metadata": {
    "execution": {
     "iopub.execute_input": "2022-01-30T18:39:46.967667Z",
     "iopub.status.busy": "2022-01-30T18:39:46.966867Z",
     "iopub.status.idle": "2022-01-30T18:39:46.968919Z",
     "shell.execute_reply": "2022-01-30T18:39:46.969363Z"
    },
    "papermill": {
     "duration": 0.022846,
     "end_time": "2022-01-30T18:39:46.969489",
     "exception": false,
     "start_time": "2022-01-30T18:39:46.946643",
     "status": "completed"
    },
    "tags": []
   },
   "outputs": [],
   "source": [
    "# You can write code in this cell\n"
   ]
  },
  {
   "cell_type": "markdown",
   "id": "991a1976",
   "metadata": {
    "papermill": {
     "duration": 0.017177,
     "end_time": "2022-01-30T18:39:47.003853",
     "exception": false,
     "start_time": "2022-01-30T18:39:46.986676",
     "status": "completed"
    },
    "tags": []
   },
   "source": [
    "It's natural to ask how accurate the model's predictions will be and how you can improve that. That will be you're next step.\n",
    "\n",
    "# Keep Going\n",
    "\n",
    "You are ready for **[Model Validation](https://www.kaggle.com/dansbecker/model-validation).**\n"
   ]
  },
  {
   "cell_type": "markdown",
   "id": "3970ab0c",
   "metadata": {
    "papermill": {
     "duration": 0.019189,
     "end_time": "2022-01-30T18:39:47.041464",
     "exception": false,
     "start_time": "2022-01-30T18:39:47.022275",
     "status": "completed"
    },
    "tags": []
   },
   "source": [
    "---\n",
    "\n",
    "\n",
    "\n",
    "\n",
    "*Have questions or comments? Visit the [course discussion forum](https://www.kaggle.com/learn/intro-to-machine-learning/discussion) to chat with other learners.*"
   ]
  }
 ],
 "metadata": {
  "kernelspec": {
   "display_name": "Python 3",
   "language": "python",
   "name": "python3"
  },
  "language_info": {
   "codemirror_mode": {
    "name": "ipython",
    "version": 3
   },
   "file_extension": ".py",
   "mimetype": "text/x-python",
   "name": "python",
   "nbconvert_exporter": "python",
   "pygments_lexer": "ipython3",
   "version": "3.7.12"
  },
  "papermill": {
   "default_parameters": {},
   "duration": 10.538108,
   "end_time": "2022-01-30T18:39:47.567931",
   "environment_variables": {},
   "exception": null,
   "input_path": "__notebook__.ipynb",
   "output_path": "__notebook__.ipynb",
   "parameters": {},
   "start_time": "2022-01-30T18:39:37.029823",
   "version": "2.3.3"
  }
 },
 "nbformat": 4,
 "nbformat_minor": 5
}
