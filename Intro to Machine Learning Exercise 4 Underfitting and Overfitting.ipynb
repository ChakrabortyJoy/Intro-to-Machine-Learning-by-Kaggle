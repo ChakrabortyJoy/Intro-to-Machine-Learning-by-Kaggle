{
 "cells": [
  {
   "cell_type": "markdown",
   "id": "d7c125f3",
   "metadata": {
    "papermill": {
     "duration": 0.008787,
     "end_time": "2022-01-31T07:56:40.047394",
     "exception": false,
     "start_time": "2022-01-31T07:56:40.038607",
     "status": "completed"
    },
    "tags": []
   },
   "source": [
    "**This notebook is an exercise in the [Introduction to Machine Learning](https://www.kaggle.com/learn/intro-to-machine-learning) course.  You can reference the tutorial at [this link](https://www.kaggle.com/dansbecker/underfitting-and-overfitting).**\n",
    "\n",
    "---\n"
   ]
  },
  {
   "cell_type": "markdown",
   "id": "d31e3421",
   "metadata": {
    "papermill": {
     "duration": 0.007499,
     "end_time": "2022-01-31T07:56:40.064521",
     "exception": false,
     "start_time": "2022-01-31T07:56:40.057022",
     "status": "completed"
    },
    "tags": []
   },
   "source": [
    "## Recap\n",
    "You've built your first model, and now it's time to optimize the size of the tree to make better predictions. Run this cell to set up your coding environment where the previous step left off."
   ]
  },
  {
   "cell_type": "code",
   "execution_count": 1,
   "id": "b0f48151",
   "metadata": {
    "execution": {
     "iopub.execute_input": "2022-01-31T07:56:40.099686Z",
     "iopub.status.busy": "2022-01-31T07:56:40.098163Z",
     "iopub.status.idle": "2022-01-31T07:56:41.217025Z",
     "shell.execute_reply": "2022-01-31T07:56:41.217673Z",
     "shell.execute_reply.started": "2022-01-31T07:40:42.906384Z"
    },
    "papermill": {
     "duration": 1.142722,
     "end_time": "2022-01-31T07:56:41.218012",
     "exception": false,
     "start_time": "2022-01-31T07:56:40.075290",
     "status": "completed"
    },
    "tags": []
   },
   "outputs": [
    {
     "name": "stdout",
     "output_type": "stream",
     "text": [
      "Validation MAE: 29,653\n",
      "\n",
      "Setup complete\n"
     ]
    }
   ],
   "source": [
    "# Code you have previously used to load data\n",
    "import pandas as pd\n",
    "from sklearn.metrics import mean_absolute_error\n",
    "from sklearn.model_selection import train_test_split\n",
    "from sklearn.tree import DecisionTreeRegressor\n",
    "\n",
    "\n",
    "# Path of the file to read\n",
    "iowa_file_path = '../input/home-data-for-ml-course/train.csv'\n",
    "\n",
    "home_data = pd.read_csv(iowa_file_path)\n",
    "# Create target object and call it y\n",
    "y = home_data.SalePrice\n",
    "# Create X\n",
    "features = ['LotArea', 'YearBuilt', '1stFlrSF', '2ndFlrSF', 'FullBath', 'BedroomAbvGr', 'TotRmsAbvGrd']\n",
    "X = home_data[features]\n",
    "\n",
    "# Split into validation and training data\n",
    "train_X, val_X, train_y, val_y = train_test_split(X, y, random_state=1)\n",
    "\n",
    "# Specify Model\n",
    "iowa_model = DecisionTreeRegressor(random_state=1)\n",
    "# Fit Model\n",
    "iowa_model.fit(train_X, train_y)\n",
    "\n",
    "# Make validation predictions and calculate mean absolute error\n",
    "val_predictions = iowa_model.predict(val_X)\n",
    "val_mae = mean_absolute_error(val_predictions, val_y)\n",
    "print(\"Validation MAE: {:,.0f}\".format(val_mae))\n",
    "\n",
    "# Set up code checking\n",
    "from learntools.core import binder\n",
    "binder.bind(globals())\n",
    "from learntools.machine_learning.ex5 import *\n",
    "print(\"\\nSetup complete\")"
   ]
  },
  {
   "cell_type": "markdown",
   "id": "64aea484",
   "metadata": {
    "papermill": {
     "duration": 0.007782,
     "end_time": "2022-01-31T07:56:41.234616",
     "exception": false,
     "start_time": "2022-01-31T07:56:41.226834",
     "status": "completed"
    },
    "tags": []
   },
   "source": [
    "# Exercises\n",
    "You could write the function `get_mae` yourself. For now, we'll supply it. This is the same function you read about in the previous lesson. Just run the cell below."
   ]
  },
  {
   "cell_type": "code",
   "execution_count": 2,
   "id": "4c889cd4",
   "metadata": {
    "execution": {
     "iopub.execute_input": "2022-01-31T07:56:41.255546Z",
     "iopub.status.busy": "2022-01-31T07:56:41.254916Z",
     "iopub.status.idle": "2022-01-31T07:56:41.257743Z",
     "shell.execute_reply": "2022-01-31T07:56:41.257353Z",
     "shell.execute_reply.started": "2022-01-31T07:40:46.935165Z"
    },
    "papermill": {
     "duration": 0.015089,
     "end_time": "2022-01-31T07:56:41.257878",
     "exception": false,
     "start_time": "2022-01-31T07:56:41.242789",
     "status": "completed"
    },
    "tags": []
   },
   "outputs": [],
   "source": [
    "def get_mae(max_leaf_nodes, train_X, val_X, train_y, val_y):\n",
    "    model = DecisionTreeRegressor(max_leaf_nodes=max_leaf_nodes, random_state=0)\n",
    "    model.fit(train_X, train_y)\n",
    "    preds_val = model.predict(val_X)\n",
    "    mae = mean_absolute_error(val_y, preds_val)\n",
    "    return(mae)"
   ]
  },
  {
   "cell_type": "markdown",
   "id": "45065235",
   "metadata": {
    "papermill": {
     "duration": 0.007733,
     "end_time": "2022-01-31T07:56:41.273465",
     "exception": false,
     "start_time": "2022-01-31T07:56:41.265732",
     "status": "completed"
    },
    "tags": []
   },
   "source": [
    "## Step 1: Compare Different Tree Sizes\n",
    "Write a loop that tries the following values for *max_leaf_nodes* from a set of possible values.\n",
    "\n",
    "Call the *get_mae* function on each value of max_leaf_nodes. Store the output in some way that allows you to select the value of `max_leaf_nodes` that gives the most accurate model on your data."
   ]
  },
  {
   "cell_type": "code",
   "execution_count": 3,
   "id": "f14ab325",
   "metadata": {
    "execution": {
     "iopub.execute_input": "2022-01-31T07:56:41.294677Z",
     "iopub.status.busy": "2022-01-31T07:56:41.293882Z",
     "iopub.status.idle": "2022-01-31T07:56:41.334710Z",
     "shell.execute_reply": "2022-01-31T07:56:41.334276Z",
     "shell.execute_reply.started": "2022-01-31T07:45:12.480611Z"
    },
    "papermill": {
     "duration": 0.053472,
     "end_time": "2022-01-31T07:56:41.334838",
     "exception": false,
     "start_time": "2022-01-31T07:56:41.281366",
     "status": "completed"
    },
    "tags": []
   },
   "outputs": [
    {
     "data": {
      "application/javascript": [
       "parent.postMessage({\"jupyterEvent\": \"custom.exercise_interaction\", \"data\": {\"outcomeType\": 1, \"valueTowardsCompletion\": 0.5, \"interactionType\": 1, \"questionType\": 1, \"questionId\": \"1_BestTreeSize\", \"learnToolsVersion\": \"0.3.4\", \"failureMessage\": \"\", \"exceptionClass\": \"\", \"trace\": \"\"}}, \"*\")"
      ],
      "text/plain": [
       "<IPython.core.display.Javascript object>"
      ]
     },
     "metadata": {},
     "output_type": "display_data"
    },
    {
     "data": {
      "text/markdown": [
       "<span style=\"color:#33cc33\">Correct</span>"
      ],
      "text/plain": [
       "Correct"
      ]
     },
     "metadata": {},
     "output_type": "display_data"
    }
   ],
   "source": [
    "candidate_max_leaf_nodes = [5, 25, 50, 100, 250, 500]\n",
    "# Write loop to find the ideal tree size from candidate_max_leaf_nodes\n",
    "scores={leaf_size:get_mae(leaf_size,train_X,val_X,train_y,val_y) for leaf_size in candidate_max_leaf_nodes}\n",
    "\n",
    "# Store the best value of max_leaf_nodes (it will be either 5, 25, 50, 100, 250 or 500)\n",
    "best_tree_size = min(scores,key=scores.get)\n",
    "\n",
    "# Check your answer\n",
    "step_1.check()"
   ]
  },
  {
   "cell_type": "code",
   "execution_count": 4,
   "id": "796838a3",
   "metadata": {
    "execution": {
     "iopub.execute_input": "2022-01-31T07:56:41.356111Z",
     "iopub.status.busy": "2022-01-31T07:56:41.355452Z",
     "iopub.status.idle": "2022-01-31T07:56:41.357751Z",
     "shell.execute_reply": "2022-01-31T07:56:41.358208Z",
     "shell.execute_reply.started": "2022-01-31T07:45:17.084819Z"
    },
    "papermill": {
     "duration": 0.014581,
     "end_time": "2022-01-31T07:56:41.358331",
     "exception": false,
     "start_time": "2022-01-31T07:56:41.343750",
     "status": "completed"
    },
    "tags": []
   },
   "outputs": [],
   "source": [
    "# The lines below will show you a hint or the solution.\n",
    "# step_1.hint() \n",
    "# step_1.solution()"
   ]
  },
  {
   "cell_type": "markdown",
   "id": "46e8e434",
   "metadata": {
    "papermill": {
     "duration": 0.008671,
     "end_time": "2022-01-31T07:56:41.375713",
     "exception": false,
     "start_time": "2022-01-31T07:56:41.367042",
     "status": "completed"
    },
    "tags": []
   },
   "source": [
    "## Step 2: Fit Model Using All Data\n",
    "You know the best tree size. If you were going to deploy this model in practice, you would make it even more accurate by using all of the data and keeping that tree size.  That is, you don't need to hold out the validation data now that you've made all your modeling decisions."
   ]
  },
  {
   "cell_type": "code",
   "execution_count": 5,
   "id": "23d97edb",
   "metadata": {
    "execution": {
     "iopub.execute_input": "2022-01-31T07:56:41.398923Z",
     "iopub.status.busy": "2022-01-31T07:56:41.398398Z",
     "iopub.status.idle": "2022-01-31T07:56:41.411529Z",
     "shell.execute_reply": "2022-01-31T07:56:41.411112Z",
     "shell.execute_reply.started": "2022-01-31T07:56:09.642735Z"
    },
    "papermill": {
     "duration": 0.027228,
     "end_time": "2022-01-31T07:56:41.411639",
     "exception": false,
     "start_time": "2022-01-31T07:56:41.384411",
     "status": "completed"
    },
    "tags": []
   },
   "outputs": [
    {
     "data": {
      "application/javascript": [
       "parent.postMessage({\"jupyterEvent\": \"custom.exercise_interaction\", \"data\": {\"outcomeType\": 1, \"valueTowardsCompletion\": 0.5, \"interactionType\": 1, \"questionType\": 2, \"questionId\": \"2_FitModelWithAllData\", \"learnToolsVersion\": \"0.3.4\", \"failureMessage\": \"\", \"exceptionClass\": \"\", \"trace\": \"\"}}, \"*\")"
      ],
      "text/plain": [
       "<IPython.core.display.Javascript object>"
      ]
     },
     "metadata": {},
     "output_type": "display_data"
    },
    {
     "data": {
      "text/markdown": [
       "<span style=\"color:#33cc33\">Correct</span>"
      ],
      "text/plain": [
       "Correct"
      ]
     },
     "metadata": {},
     "output_type": "display_data"
    }
   ],
   "source": [
    "# Fill in argument to make optimal size and uncomment\n",
    "final_model = DecisionTreeRegressor(max_leaf_nodes=best_tree_size,random_state=1)\n",
    "\n",
    "# fit the final model and uncomment the next two lines\n",
    "final_model.fit(X,y)\n",
    "\n",
    "# Check your answer\n",
    "step_2.check()"
   ]
  },
  {
   "cell_type": "code",
   "execution_count": 6,
   "id": "b1d0218e",
   "metadata": {
    "execution": {
     "iopub.execute_input": "2022-01-31T07:56:41.434012Z",
     "iopub.status.busy": "2022-01-31T07:56:41.433390Z",
     "iopub.status.idle": "2022-01-31T07:56:41.435641Z",
     "shell.execute_reply": "2022-01-31T07:56:41.436076Z",
     "shell.execute_reply.started": "2022-01-31T07:56:11.269373Z"
    },
    "papermill": {
     "duration": 0.014994,
     "end_time": "2022-01-31T07:56:41.436196",
     "exception": false,
     "start_time": "2022-01-31T07:56:41.421202",
     "status": "completed"
    },
    "tags": []
   },
   "outputs": [],
   "source": [
    "# step_2.hint()\n",
    "# step_2.solution()"
   ]
  },
  {
   "cell_type": "markdown",
   "id": "1e8cc013",
   "metadata": {
    "papermill": {
     "duration": 0.009354,
     "end_time": "2022-01-31T07:56:41.454979",
     "exception": false,
     "start_time": "2022-01-31T07:56:41.445625",
     "status": "completed"
    },
    "tags": []
   },
   "source": [
    "You've tuned this model and improved your results. But we are still using Decision Tree models, which are not very sophisticated by modern machine learning standards. In the next step you will learn to use Random Forests to improve your models even more.\n",
    "\n",
    "# Keep Going\n",
    "\n",
    "You are ready for **[Random Forests](https://www.kaggle.com/dansbecker/random-forests).**\n"
   ]
  },
  {
   "cell_type": "markdown",
   "id": "07bf2c4d",
   "metadata": {
    "papermill": {
     "duration": 0.009388,
     "end_time": "2022-01-31T07:56:41.473916",
     "exception": false,
     "start_time": "2022-01-31T07:56:41.464528",
     "status": "completed"
    },
    "tags": []
   },
   "source": [
    "---\n",
    "\n",
    "\n",
    "\n",
    "\n",
    "*Have questions or comments? Visit the [course discussion forum](https://www.kaggle.com/learn/intro-to-machine-learning/discussion) to chat with other learners.*"
   ]
  }
 ],
 "metadata": {
  "kernelspec": {
   "display_name": "Python 3",
   "language": "python",
   "name": "python3"
  },
  "language_info": {
   "codemirror_mode": {
    "name": "ipython",
    "version": 3
   },
   "file_extension": ".py",
   "mimetype": "text/x-python",
   "name": "python",
   "nbconvert_exporter": "python",
   "pygments_lexer": "ipython3",
   "version": "3.7.12"
  },
  "papermill": {
   "default_parameters": {},
   "duration": 10.235967,
   "end_time": "2022-01-31T07:56:42.194406",
   "environment_variables": {},
   "exception": null,
   "input_path": "__notebook__.ipynb",
   "output_path": "__notebook__.ipynb",
   "parameters": {},
   "start_time": "2022-01-31T07:56:31.958439",
   "version": "2.3.3"
  }
 },
 "nbformat": 4,
 "nbformat_minor": 5
}
