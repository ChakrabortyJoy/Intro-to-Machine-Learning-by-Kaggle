{
 "cells": [
  {
   "cell_type": "markdown",
   "id": "ce981736",
   "metadata": {
    "papermill": {
     "duration": 0.014475,
     "end_time": "2022-01-30T19:29:22.309826",
     "exception": false,
     "start_time": "2022-01-30T19:29:22.295351",
     "status": "completed"
    },
    "tags": []
   },
   "source": [
    "**This notebook is an exercise in the [Introduction to Machine Learning](https://www.kaggle.com/learn/intro-to-machine-learning) course.  You can reference the tutorial at [this link](https://www.kaggle.com/dansbecker/model-validation).**\n",
    "\n",
    "---\n"
   ]
  },
  {
   "cell_type": "markdown",
   "id": "f218007d",
   "metadata": {
    "papermill": {
     "duration": 0.015357,
     "end_time": "2022-01-30T19:29:22.339855",
     "exception": false,
     "start_time": "2022-01-30T19:29:22.324498",
     "status": "completed"
    },
    "tags": []
   },
   "source": [
    "## Recap\n",
    "You've built a model. In this exercise you will test how good your model is.\n",
    "\n",
    "Run the cell below to set up your coding environment where the previous exercise left off."
   ]
  },
  {
   "cell_type": "code",
   "execution_count": 1,
   "id": "49ca4478",
   "metadata": {
    "execution": {
     "iopub.execute_input": "2022-01-30T19:29:22.373341Z",
     "iopub.status.busy": "2022-01-30T19:29:22.371547Z",
     "iopub.status.idle": "2022-01-30T19:29:23.726818Z",
     "shell.execute_reply": "2022-01-30T19:29:23.726135Z",
     "shell.execute_reply.started": "2022-01-30T19:14:26.366014Z"
    },
    "papermill": {
     "duration": 1.372823,
     "end_time": "2022-01-30T19:29:23.726999",
     "exception": false,
     "start_time": "2022-01-30T19:29:22.354176",
     "status": "completed"
    },
    "tags": []
   },
   "outputs": [
    {
     "name": "stdout",
     "output_type": "stream",
     "text": [
      "First in-sample predictions: [208500. 181500. 223500. 140000. 250000.]\n",
      "Actual target values for those homes: [208500, 181500, 223500, 140000, 250000]\n",
      "Setup Complete\n"
     ]
    }
   ],
   "source": [
    "# Code you have previously used to load data\n",
    "import pandas as pd\n",
    "from sklearn.tree import DecisionTreeRegressor\n",
    "\n",
    "# Path of the file to read\n",
    "iowa_file_path = '../input/home-data-for-ml-course/train.csv'\n",
    "\n",
    "home_data = pd.read_csv(iowa_file_path)\n",
    "y = home_data.SalePrice\n",
    "feature_columns = ['LotArea', 'YearBuilt', '1stFlrSF', '2ndFlrSF', 'FullBath', 'BedroomAbvGr', 'TotRmsAbvGrd']\n",
    "X = home_data[feature_columns]\n",
    "\n",
    "# Specify Model\n",
    "iowa_model = DecisionTreeRegressor()\n",
    "# Fit Model\n",
    "iowa_model.fit(X, y)\n",
    "\n",
    "print(\"First in-sample predictions:\", iowa_model.predict(X.head()))\n",
    "print(\"Actual target values for those homes:\", y.head().tolist())\n",
    "\n",
    "# Set up code checking\n",
    "from learntools.core import binder\n",
    "binder.bind(globals())\n",
    "from learntools.machine_learning.ex4 import *\n",
    "print(\"Setup Complete\")"
   ]
  },
  {
   "cell_type": "markdown",
   "id": "dc1d6eee",
   "metadata": {
    "papermill": {
     "duration": 0.013509,
     "end_time": "2022-01-30T19:29:23.754913",
     "exception": false,
     "start_time": "2022-01-30T19:29:23.741404",
     "status": "completed"
    },
    "tags": []
   },
   "source": [
    "# Exercises\n",
    "\n",
    "## Step 1: Split Your Data\n",
    "Use the `train_test_split` function to split up your data.\n",
    "\n",
    "Give it the argument `random_state=1` so the `check` functions know what to expect when verifying your code.\n",
    "\n",
    "Recall, your features are loaded in the DataFrame **X** and your target is loaded in **y**.\n"
   ]
  },
  {
   "cell_type": "code",
   "execution_count": 2,
   "id": "115ad04f",
   "metadata": {
    "execution": {
     "iopub.execute_input": "2022-01-30T19:29:23.791514Z",
     "iopub.status.busy": "2022-01-30T19:29:23.790873Z",
     "iopub.status.idle": "2022-01-30T19:29:23.798598Z",
     "shell.execute_reply": "2022-01-30T19:29:23.799214Z",
     "shell.execute_reply.started": "2022-01-30T19:18:41.388247Z"
    },
    "papermill": {
     "duration": 0.030977,
     "end_time": "2022-01-30T19:29:23.799398",
     "exception": false,
     "start_time": "2022-01-30T19:29:23.768421",
     "status": "completed"
    },
    "tags": []
   },
   "outputs": [
    {
     "data": {
      "application/javascript": [
       "parent.postMessage({\"jupyterEvent\": \"custom.exercise_interaction\", \"data\": {\"outcomeType\": 1, \"valueTowardsCompletion\": 0.25, \"interactionType\": 1, \"questionType\": 2, \"questionId\": \"1_SplitData\", \"learnToolsVersion\": \"0.3.4\", \"failureMessage\": \"\", \"exceptionClass\": \"\", \"trace\": \"\"}}, \"*\")"
      ],
      "text/plain": [
       "<IPython.core.display.Javascript object>"
      ]
     },
     "metadata": {},
     "output_type": "display_data"
    },
    {
     "data": {
      "text/markdown": [
       "<span style=\"color:#33cc33\">Correct</span>"
      ],
      "text/plain": [
       "Correct"
      ]
     },
     "metadata": {},
     "output_type": "display_data"
    }
   ],
   "source": [
    "# Import the train_test_split function and uncomment\n",
    "from sklearn.model_selection import train_test_split\n",
    "\n",
    "# fill in and uncomment\n",
    "train_X, val_X, train_y, val_y = train_test_split(X,y,random_state=1)\n",
    "\n",
    "# Check your answer\n",
    "step_1.check()"
   ]
  },
  {
   "cell_type": "code",
   "execution_count": 3,
   "id": "6ebe2420",
   "metadata": {
    "execution": {
     "iopub.execute_input": "2022-01-30T19:29:23.832396Z",
     "iopub.status.busy": "2022-01-30T19:29:23.831613Z",
     "iopub.status.idle": "2022-01-30T19:29:23.834587Z",
     "shell.execute_reply": "2022-01-30T19:29:23.835175Z",
     "shell.execute_reply.started": "2022-01-30T19:18:46.229032Z"
    },
    "papermill": {
     "duration": 0.021154,
     "end_time": "2022-01-30T19:29:23.835336",
     "exception": false,
     "start_time": "2022-01-30T19:29:23.814182",
     "status": "completed"
    },
    "tags": []
   },
   "outputs": [],
   "source": [
    "# The lines below will show you a hint or the solution.\n",
    "# step_1.hint() \n",
    "# step_1.solution()\n"
   ]
  },
  {
   "cell_type": "markdown",
   "id": "9afaa46d",
   "metadata": {
    "papermill": {
     "duration": 0.014207,
     "end_time": "2022-01-30T19:29:23.864117",
     "exception": false,
     "start_time": "2022-01-30T19:29:23.849910",
     "status": "completed"
    },
    "tags": []
   },
   "source": [
    "## Step 2: Specify and Fit the Model\n",
    "\n",
    "Create a `DecisionTreeRegressor` model and fit it to the relevant data.\n",
    "Set `random_state` to 1 again when creating the model."
   ]
  },
  {
   "cell_type": "code",
   "execution_count": 4,
   "id": "34391477",
   "metadata": {
    "execution": {
     "iopub.execute_input": "2022-01-30T19:29:23.901508Z",
     "iopub.status.busy": "2022-01-30T19:29:23.900772Z",
     "iopub.status.idle": "2022-01-30T19:29:23.922973Z",
     "shell.execute_reply": "2022-01-30T19:29:23.922429Z",
     "shell.execute_reply.started": "2022-01-30T19:21:22.961228Z"
    },
    "papermill": {
     "duration": 0.044523,
     "end_time": "2022-01-30T19:29:23.923123",
     "exception": false,
     "start_time": "2022-01-30T19:29:23.878600",
     "status": "completed"
    },
    "tags": []
   },
   "outputs": [
    {
     "name": "stdout",
     "output_type": "stream",
     "text": [
      "[186500. 184000. 130000.  92000. 164500. 220000. 335000. 144152. 215000.\n",
      " 262000.]\n",
      "[186500. 184000. 130000.  92000. 164500. 220000. 335000. 144152. 215000.\n",
      " 262000.]\n"
     ]
    },
    {
     "data": {
      "application/javascript": [
       "parent.postMessage({\"jupyterEvent\": \"custom.exercise_interaction\", \"data\": {\"outcomeType\": 1, \"valueTowardsCompletion\": 0.25, \"interactionType\": 1, \"questionType\": 2, \"questionId\": \"2_FitModelWithTrain\", \"learnToolsVersion\": \"0.3.4\", \"failureMessage\": \"\", \"exceptionClass\": \"\", \"trace\": \"\"}}, \"*\")"
      ],
      "text/plain": [
       "<IPython.core.display.Javascript object>"
      ]
     },
     "metadata": {},
     "output_type": "display_data"
    },
    {
     "data": {
      "text/markdown": [
       "<span style=\"color:#33cc33\">Correct</span>"
      ],
      "text/plain": [
       "Correct"
      ]
     },
     "metadata": {},
     "output_type": "display_data"
    }
   ],
   "source": [
    "# You imported DecisionTreeRegressor in your last exercise\n",
    "# and that code has been copied to the setup code above. So, no need to\n",
    "# import it again\n",
    "\n",
    "# Specify the model\n",
    "iowa_model = DecisionTreeRegressor(random_state=1)\n",
    "\n",
    "# Fit iowa_model with the training data.\n",
    "iowa_model.fit(train_X,train_y)\n",
    "\n",
    "# Check your answer\n",
    "step_2.check()"
   ]
  },
  {
   "cell_type": "code",
   "execution_count": 5,
   "id": "78e5b967",
   "metadata": {
    "execution": {
     "iopub.execute_input": "2022-01-30T19:29:23.958957Z",
     "iopub.status.busy": "2022-01-30T19:29:23.958335Z",
     "iopub.status.idle": "2022-01-30T19:29:23.960642Z",
     "shell.execute_reply": "2022-01-30T19:29:23.961189Z",
     "shell.execute_reply.started": "2022-01-30T19:21:27.786866Z"
    },
    "papermill": {
     "duration": 0.022431,
     "end_time": "2022-01-30T19:29:23.961346",
     "exception": false,
     "start_time": "2022-01-30T19:29:23.938915",
     "status": "completed"
    },
    "tags": []
   },
   "outputs": [],
   "source": [
    "# step_2.hint()\n",
    "# step_2.solution()"
   ]
  },
  {
   "cell_type": "markdown",
   "id": "d9b6e754",
   "metadata": {
    "papermill": {
     "duration": 0.016248,
     "end_time": "2022-01-30T19:29:23.993717",
     "exception": false,
     "start_time": "2022-01-30T19:29:23.977469",
     "status": "completed"
    },
    "tags": []
   },
   "source": [
    "## Step 3: Make Predictions with Validation data\n"
   ]
  },
  {
   "cell_type": "code",
   "execution_count": 6,
   "id": "2e1fb2da",
   "metadata": {
    "execution": {
     "iopub.execute_input": "2022-01-30T19:29:24.028682Z",
     "iopub.status.busy": "2022-01-30T19:29:24.028051Z",
     "iopub.status.idle": "2022-01-30T19:29:24.037935Z",
     "shell.execute_reply": "2022-01-30T19:29:24.038423Z",
     "shell.execute_reply.started": "2022-01-30T19:23:43.146546Z"
    },
    "papermill": {
     "duration": 0.029035,
     "end_time": "2022-01-30T19:29:24.038597",
     "exception": false,
     "start_time": "2022-01-30T19:29:24.009562",
     "status": "completed"
    },
    "tags": []
   },
   "outputs": [
    {
     "data": {
      "application/javascript": [
       "parent.postMessage({\"jupyterEvent\": \"custom.exercise_interaction\", \"data\": {\"outcomeType\": 1, \"valueTowardsCompletion\": 0.25, \"interactionType\": 1, \"questionType\": 2, \"questionId\": \"3_ValPreds\", \"learnToolsVersion\": \"0.3.4\", \"failureMessage\": \"\", \"exceptionClass\": \"\", \"trace\": \"\"}}, \"*\")"
      ],
      "text/plain": [
       "<IPython.core.display.Javascript object>"
      ]
     },
     "metadata": {},
     "output_type": "display_data"
    },
    {
     "data": {
      "text/markdown": [
       "<span style=\"color:#33cc33\">Correct</span>"
      ],
      "text/plain": [
       "Correct"
      ]
     },
     "metadata": {},
     "output_type": "display_data"
    }
   ],
   "source": [
    "# Predict with all validation observations\n",
    "val_predictions = iowa_model.predict(val_X)\n",
    "\n",
    "# Check your answer\n",
    "step_3.check()"
   ]
  },
  {
   "cell_type": "code",
   "execution_count": 7,
   "id": "258eaaa9",
   "metadata": {
    "execution": {
     "iopub.execute_input": "2022-01-30T19:29:24.075786Z",
     "iopub.status.busy": "2022-01-30T19:29:24.075148Z",
     "iopub.status.idle": "2022-01-30T19:29:24.078401Z",
     "shell.execute_reply": "2022-01-30T19:29:24.078911Z",
     "shell.execute_reply.started": "2022-01-30T19:23:47.795602Z"
    },
    "papermill": {
     "duration": 0.023627,
     "end_time": "2022-01-30T19:29:24.079078",
     "exception": false,
     "start_time": "2022-01-30T19:29:24.055451",
     "status": "completed"
    },
    "tags": []
   },
   "outputs": [],
   "source": [
    "# step_3.hint()\n",
    "# step_3.solution()"
   ]
  },
  {
   "cell_type": "markdown",
   "id": "244465cd",
   "metadata": {
    "papermill": {
     "duration": 0.016544,
     "end_time": "2022-01-30T19:29:24.112831",
     "exception": false,
     "start_time": "2022-01-30T19:29:24.096287",
     "status": "completed"
    },
    "tags": []
   },
   "source": [
    "Inspect your predictions and actual values from validation data."
   ]
  },
  {
   "cell_type": "code",
   "execution_count": 8,
   "id": "2c609a06",
   "metadata": {
    "_kg_hide-input": true,
    "execution": {
     "iopub.execute_input": "2022-01-30T19:29:24.150743Z",
     "iopub.status.busy": "2022-01-30T19:29:24.150130Z",
     "iopub.status.idle": "2022-01-30T19:29:24.155219Z",
     "shell.execute_reply": "2022-01-30T19:29:24.155849Z"
    },
    "papermill": {
     "duration": 0.025511,
     "end_time": "2022-01-30T19:29:24.156059",
     "exception": false,
     "start_time": "2022-01-30T19:29:24.130548",
     "status": "completed"
    },
    "tags": []
   },
   "outputs": [
    {
     "name": "stdout",
     "output_type": "stream",
     "text": [
      "<learntools.core.constants.PlaceholderValue object at 0x7efd92be9390>\n",
      "<learntools.core.constants.PlaceholderValue object at 0x7efd92be9390>\n"
     ]
    }
   ],
   "source": [
    "# print the top few validation predictions\n",
    "print(____)\n",
    "# print the top few actual prices from validation data\n",
    "print(____)"
   ]
  },
  {
   "cell_type": "markdown",
   "id": "5ffb17e3",
   "metadata": {
    "papermill": {
     "duration": 0.016967,
     "end_time": "2022-01-30T19:29:24.191454",
     "exception": false,
     "start_time": "2022-01-30T19:29:24.174487",
     "status": "completed"
    },
    "tags": []
   },
   "source": [
    "What do you notice that is different from what you saw with in-sample predictions (which are printed after the top code cell in this page).\n",
    "\n",
    "Do you remember why validation predictions differ from in-sample (or training) predictions? This is an important idea from the last lesson.\n",
    "\n",
    "## Step 4: Calculate the Mean Absolute Error in Validation Data\n"
   ]
  },
  {
   "cell_type": "code",
   "execution_count": 9,
   "id": "6ba0e970",
   "metadata": {
    "execution": {
     "iopub.execute_input": "2022-01-30T19:29:24.233673Z",
     "iopub.status.busy": "2022-01-30T19:29:24.232983Z",
     "iopub.status.idle": "2022-01-30T19:29:24.238410Z",
     "shell.execute_reply": "2022-01-30T19:29:24.238903Z",
     "shell.execute_reply.started": "2022-01-30T19:28:54.184314Z"
    },
    "papermill": {
     "duration": 0.030105,
     "end_time": "2022-01-30T19:29:24.239066",
     "exception": false,
     "start_time": "2022-01-30T19:29:24.208961",
     "status": "completed"
    },
    "tags": []
   },
   "outputs": [
    {
     "name": "stdout",
     "output_type": "stream",
     "text": [
      "29652.931506849316\n"
     ]
    },
    {
     "data": {
      "application/javascript": [
       "parent.postMessage({\"jupyterEvent\": \"custom.exercise_interaction\", \"data\": {\"outcomeType\": 1, \"valueTowardsCompletion\": 0.25, \"interactionType\": 1, \"questionType\": 1, \"questionId\": \"4_MAE\", \"learnToolsVersion\": \"0.3.4\", \"failureMessage\": \"\", \"exceptionClass\": \"\", \"trace\": \"\"}}, \"*\")"
      ],
      "text/plain": [
       "<IPython.core.display.Javascript object>"
      ]
     },
     "metadata": {},
     "output_type": "display_data"
    },
    {
     "data": {
      "text/markdown": [
       "<span style=\"color:#33cc33\">Correct</span>"
      ],
      "text/plain": [
       "Correct"
      ]
     },
     "metadata": {},
     "output_type": "display_data"
    }
   ],
   "source": [
    "from sklearn.metrics import mean_absolute_error\n",
    "val_mae = mean_absolute_error(val_y,val_predictions)\n",
    "# uncomment following line to see the validation_mae\n",
    "print(val_mae)\n",
    "\n",
    "# Check your answer\n",
    "step_4.check()"
   ]
  },
  {
   "cell_type": "code",
   "execution_count": 10,
   "id": "519c209b",
   "metadata": {
    "execution": {
     "iopub.execute_input": "2022-01-30T19:29:24.281294Z",
     "iopub.status.busy": "2022-01-30T19:29:24.280464Z",
     "iopub.status.idle": "2022-01-30T19:29:24.284313Z",
     "shell.execute_reply": "2022-01-30T19:29:24.283542Z",
     "shell.execute_reply.started": "2022-01-30T19:28:55.430256Z"
    },
    "papermill": {
     "duration": 0.026534,
     "end_time": "2022-01-30T19:29:24.284476",
     "exception": false,
     "start_time": "2022-01-30T19:29:24.257942",
     "status": "completed"
    },
    "tags": []
   },
   "outputs": [],
   "source": [
    "# step_4.hint()\n",
    "# step_4.solution()"
   ]
  },
  {
   "cell_type": "markdown",
   "id": "2b11313c",
   "metadata": {
    "papermill": {
     "duration": 0.018282,
     "end_time": "2022-01-30T19:29:24.321364",
     "exception": false,
     "start_time": "2022-01-30T19:29:24.303082",
     "status": "completed"
    },
    "tags": []
   },
   "source": [
    "Is that MAE good?  There isn't a general rule for what values are good that applies across applications. But you'll see how to use (and improve) this number in the next step.\n",
    "\n",
    "# Keep Going\n",
    "\n",
    "You are ready for **[Underfitting and Overfitting](https://www.kaggle.com/dansbecker/underfitting-and-overfitting).**\n"
   ]
  },
  {
   "cell_type": "markdown",
   "id": "3f25f426",
   "metadata": {
    "papermill": {
     "duration": 0.018542,
     "end_time": "2022-01-30T19:29:24.358598",
     "exception": false,
     "start_time": "2022-01-30T19:29:24.340056",
     "status": "completed"
    },
    "tags": []
   },
   "source": [
    "---\n",
    "\n",
    "\n",
    "\n",
    "\n",
    "*Have questions or comments? Visit the [course discussion forum](https://www.kaggle.com/learn/intro-to-machine-learning/discussion) to chat with other learners.*"
   ]
  }
 ],
 "metadata": {
  "kernelspec": {
   "display_name": "Python 3",
   "language": "python",
   "name": "python3"
  },
  "language_info": {
   "codemirror_mode": {
    "name": "ipython",
    "version": 3
   },
   "file_extension": ".py",
   "mimetype": "text/x-python",
   "name": "python",
   "nbconvert_exporter": "python",
   "pygments_lexer": "ipython3",
   "version": "3.7.12"
  },
  "papermill": {
   "default_parameters": {},
   "duration": 12.462911,
   "end_time": "2022-01-30T19:29:25.089549",
   "environment_variables": {},
   "exception": null,
   "input_path": "__notebook__.ipynb",
   "output_path": "__notebook__.ipynb",
   "parameters": {},
   "start_time": "2022-01-30T19:29:12.626638",
   "version": "2.3.3"
  }
 },
 "nbformat": 4,
 "nbformat_minor": 5
}
